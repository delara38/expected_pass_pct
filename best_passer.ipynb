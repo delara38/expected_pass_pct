{
 "cells": [
  {
   "cell_type": "markdown",
   "metadata": {},
   "source": [
    "# Framework for Evaluating Player's Pass IQ\n",
    "Below is the coding framework for how someone could evaluate players in the 2018 world cup on their passing iq. passing iq will be understood as the expected completion percentage(xCompletion%) based off their pass selection. This framework is extremely limited but a good starting point for the subject.\n",
    "\n",
    "The framework has three main steps.\n",
    "1. configure a player database that for every game in the world cup a player played has the number of passes they made and the average xCompletion% on those passes \n",
    "2. Regress every player towards the mean so that sample size(number of passes attempted) can be taken into account\n",
    "3. Reconfigure the player databse to have gp and regressed xCompletion% as attributes and rank them on their xCompletion%\n",
    "4. Evaluate players based off position\n",
    "       \n",
    "     \n",
    "The machine learning model is based off of Devin Pleuler's repository applied-examples and the code can be found at the link below:\n",
    "https://github.com/devinpleuler/applied-examples/blob/master/Estimating%20Pass%20Difficulty.ipynb\n",
    "\n",
    "the model was done to estimate pass difficulty but it can double as the probability of a completion and thus a player who makes passes with higher completion probability could be considered to have a higher passing iq. The one difference between his model and mine is that Devin used Logistic Regression and I used a Multi-Layer Perceptron (MLP Classifier). the advantage of the MLP Classifier in my opinion is that it can be more fluid and makes connections between the data passed to it easier than Logistic Regression does. \n",
    "\n",
    "\n",
    "DEPENDENCIES:\n",
    "- pandas\n",
    "- numpy\n",
    "- matplotlib\n",
    "- sklearn\n",
    "\n",
    "\n",
    "DISCLAIMER:\n",
    "\n",
    "- The one issue with using a MLP Classifier is that it requires a lot of training data and we may not have enough tp get accurate results. \n",
    "\n",
    "- In this model we'll be evaluating passes from the 2018 world cup, the same passes we   trained the model with which is bad practice; however, we dont have enough data do another way.\n",
    " \n",
    "- the method for regressing to the mean is not perfect a better way to do it would be to find correlation between games - make one list of even games another list of odd games and correlate the two - but many players play 3 games or only 2 games so the method would not work\n",
    "\n",
    "for these reasons I've named this as a framework for how to measure something like pass iq so other people can learn from or apply it to other scenarios. The results shown should not be used for any statistical evaluation of players.\n",
    "\n",
    "\n",
    "\n",
    "IF YOURE DOING THIS ON YOUR MACHINE THEN GO INTO 'passes.csv' AND DELETE THE FIRST COMMA AT THE TOP UNLESS YOULL KEEP GETTING KEYERROR MESSAGES"
   ]
  },
  {
   "cell_type": "code",
   "execution_count": 1,
   "metadata": {},
   "outputs": [],
   "source": [
    "import pandas as pd\n",
    "import numpy as np\n",
    "import matplotlib.pyplot as plt\n",
    "import json\n",
    "import pickle\n",
    "import sklearn\n",
    "import requests\n",
    "%matplotlib inline"
   ]
  },
  {
   "cell_type": "code",
   "execution_count": 2,
   "metadata": {},
   "outputs": [],
   "source": [
    "#import pre-made csv of all players in world cup and make it into a dict\n",
    "players = pd.read_csv('docs/player.csv').transpose().to_dict()\n",
    "\n",
    "#import ML model, refer to david pleuler post for model information\n",
    "filename = 'docs/passes_ML.sav'\n",
    "model = pickle.load(open(filename,'rb'))\n"
   ]
  },
  {
   "cell_type": "code",
   "execution_count": 3,
   "metadata": {},
   "outputs": [
    {
     "data": {
      "text/html": [
       "<div>\n",
       "<style scoped>\n",
       "    .dataframe tbody tr th:only-of-type {\n",
       "        vertical-align: middle;\n",
       "    }\n",
       "\n",
       "    .dataframe tbody tr th {\n",
       "        vertical-align: top;\n",
       "    }\n",
       "\n",
       "    .dataframe thead th {\n",
       "        text-align: right;\n",
       "    }\n",
       "</style>\n",
       "<table border=\"1\" class=\"dataframe\">\n",
       "  <thead>\n",
       "    <tr style=\"text-align: right;\">\n",
       "      <th></th>\n",
       "      <th>Games</th>\n",
       "      <th>Name</th>\n",
       "      <th>Team</th>\n",
       "    </tr>\n",
       "  </thead>\n",
       "  <tbody>\n",
       "    <tr>\n",
       "      <th>3531</th>\n",
       "      <td>{}</td>\n",
       "      <td>Mohamed Salah</td>\n",
       "      <td>Egypt</td>\n",
       "    </tr>\n",
       "    <tr>\n",
       "      <th>3536</th>\n",
       "      <td>{}</td>\n",
       "      <td>Ramadan Sobhi</td>\n",
       "      <td>Egypt</td>\n",
       "    </tr>\n",
       "    <tr>\n",
       "      <th>3568</th>\n",
       "      <td>{}</td>\n",
       "      <td>Mohamed Naser Elsayed Elneny</td>\n",
       "      <td>Egypt</td>\n",
       "    </tr>\n",
       "    <tr>\n",
       "      <th>4063</th>\n",
       "      <td>{}</td>\n",
       "      <td>Ahmed Hegazi</td>\n",
       "      <td>Egypt</td>\n",
       "    </tr>\n",
       "    <tr>\n",
       "      <th>5250</th>\n",
       "      <td>{}</td>\n",
       "      <td>Ahmed Fathy Abdel Meneim Ibrahim</td>\n",
       "      <td>Egypt</td>\n",
       "    </tr>\n",
       "  </tbody>\n",
       "</table>\n",
       "</div>"
      ],
      "text/plain": [
       "     Games                              Name   Team\n",
       "3531    {}                     Mohamed Salah  Egypt\n",
       "3536    {}                     Ramadan Sobhi  Egypt\n",
       "3568    {}      Mohamed Naser Elsayed Elneny  Egypt\n",
       "4063    {}                      Ahmed Hegazi  Egypt\n",
       "5250    {}  Ahmed Fathy Abdel Meneim Ibrahim  Egypt"
      ]
     },
     "execution_count": 3,
     "metadata": {},
     "output_type": "execute_result"
    }
   ],
   "source": [
    "player = pd.read_csv('docs/player.csv')\n",
    "player.head()"
   ]
  },
  {
   "cell_type": "code",
   "execution_count": 4,
   "metadata": {},
   "outputs": [],
   "source": [
    "#open up matches info and make a list of all the match ids\n",
    "tournament = requests.get('https://raw.githubusercontent.com/statsbomb/open-data/master/data/matches/43.json').json()\n",
    "\n",
    "match_ids = []\n",
    "for g in tournament:\n",
    "    m_id = g['match_id']\n",
    "    match_ids.append(m_id)\n"
   ]
  },
  {
   "cell_type": "code",
   "execution_count": 5,
   "metadata": {},
   "outputs": [],
   "source": [
    "\n",
    "path = 'https://raw.githubusercontent.com/statsbomb/open-data/master/data/events/{}.json'\n",
    "one = True\n",
    "for id in match_ids:\n",
    "    #get all the passes in the match\n",
    "    passes = requests.get(path.format(id)).json()\n",
    "    passes = [x for x in passes if x['type']['name'] == \"Pass\" and x['position']['name'] != 'Goalkeeper']\n",
    "    \n",
    "    #feed model pass info on passes to get probability of a completion\n",
    "    for play in passes:\n",
    "        player_id = play['player']['id']\n",
    "        #feeds pass vairables to model to get expected completion% ('x','y','length','angle')\n",
    "        features = play['location'][0], play['location'][1],play['pass']['length'],play['pass']['angle']\n",
    "        features = np.array(features)\n",
    "        chance = float(model.predict_proba(features.reshape(1,-1))[0].tolist()[1])\n",
    "    \n",
    "        #sets player position, will be used later\n",
    "        players[player_id]['Position'] = play['position']['name'].split(' ')[-1]\n",
    "    #try is used to see if there are any keys in the model, if there are none an exception occurs\n",
    "    #and then the except handles the player as a new player\n",
    "        try:\n",
    "            #check if game already exists for player\n",
    "            if id in players[player_id]['Games'].keys():\n",
    "                #if so add 1 to passes and recalculate the pass completion average\n",
    "                players[player_id]['Games'][id]['passes'] = players[player_id]['Games'][id]['passes'] + 1\n",
    "                players[player_id]['Games'][id]['xP_av'] = (players[player_id]['Games'][id]['xP_av'] * (players[player_id]['Games'][id]['passes'] -1) + chance) / players[player_id]['Games'][id]['passes']\n",
    "            \n",
    "            else:\n",
    "                #if player has not had game set up a new dictionary for that game indexed by the match id\n",
    "                players[player_id]['Games'][id] = {\n",
    "                    'passes': 1,\n",
    "                    'xP_av' : chance,\n",
    "                }\n",
    "        except:\n",
    "            #create the games part od the dictionary into a dictionary for every game\n",
    "            players[player_id]['Games'] = {}\n",
    "            players[player_id]['Games'][id] = {}\n",
    "            players[player_id]['Games'][id]['passes'] = 1\n",
    "            players[player_id]['Games'][id]['xP_av'] = chance\n",
    "        \n",
    "            "
   ]
  },
  {
   "cell_type": "code",
   "execution_count": 6,
   "metadata": {},
   "outputs": [],
   "source": [
    "#pops players who have no xpass data from the main dict\n",
    "to_pop = []\n",
    "for player in players:    \n",
    "    games = players[player]['Games']\n",
    "    if len(games) > 1:\n",
    "        xp1 = []\n",
    "        for game in games:\n",
    "            if game == '{':\n",
    "                to_pop.append(player)\n",
    "\n",
    "for names in to_pop:\n",
    "    players.pop(names)"
   ]
  },
  {
   "cell_type": "code",
   "execution_count": 7,
   "metadata": {},
   "outputs": [],
   "source": [
    "xp = {}\n",
    "\n",
    "#creates a dict of every player indexed by player id and the values are expected completion\n",
    "#average and total passes made\n",
    "tot_passes = []\n",
    "passcomp = []\n",
    "for player in players:    \n",
    "    games = players[player]['Games']\n",
    "  \n",
    "    xp1 = []\n",
    "    passes = []\n",
    "    for game in games:\n",
    "\n",
    "        xp1.append(games[int(game)]['xP_av'])\n",
    "        passes.append(games[int(game)]['passes'])\n",
    "\n",
    "    xp[player] = np.mean(xp1), np.sum(passes) \n",
    "    tot_passes.append(np.sum(passes))\n",
    "    passcomp.append(np.mean(xp1))"
   ]
  },
  {
   "cell_type": "markdown",
   "metadata": {},
   "source": [
    "# Regressing xCompletion%"
   ]
  },
  {
   "cell_type": "code",
   "execution_count": 8,
   "metadata": {},
   "outputs": [
    {
     "name": "stdout",
     "output_type": "stream",
     "text": [
      "557\n",
      "0.8391646161522741\n"
     ]
    }
   ],
   "source": [
    "'''\n",
    "below is the basic formula for regressing to the mean, its based off a method described in \n",
    "the book 'stat shot, fans guide' by Rob Vollman\n",
    "reg_val = (expected_completion_average * number_of_passes + (threshold - number_of_passes) * av_expected_completion_aveage) / threshold\n",
    "'''\n",
    "#collecting the threshold as a value of 30 over the max, the bigger the addition the \n",
    "#stronger players get regressed to the mean\n",
    "thresh = np.max(tot_passes) + 30\n",
    "print(thresh)\n",
    "\n",
    "#find the average xcompletion across all players\n",
    "xp_all = []\n",
    "for people in xp:\n",
    "    xp_all.append(xp[people][0])\n",
    "\n",
    "av_prec = np.mean(xp_all)\n",
    "print(av_prec)"
   ]
  },
  {
   "cell_type": "code",
   "execution_count": 9,
   "metadata": {},
   "outputs": [],
   "source": [
    "#applied the formula to each player in db and make a dictionary(playerid : regressed value)\n",
    "reg_val = {}\n",
    "for passers in xp:\n",
    "    passes = xp[passers][1]\n",
    "    xcomp = xp[passers][0]\n",
    "    to_add = thresh - passes\n",
    "    new_val = (((passes/thresh) * xcomp) + ((to_add/thresh) * av_prec))\n",
    "    reg_val[passers] = new_val\n",
    "    \n",
    "    "
   ]
  },
  {
   "cell_type": "code",
   "execution_count": 10,
   "metadata": {
    "scrolled": true
   },
   "outputs": [
    {
     "data": {
      "image/png": "[encoded data removed]",
      "text/plain": [
       "<Figure size 1080x360 with 2 Axes>"
      ]
     },
     "metadata": {
      "needs_background": "light"
     },
     "output_type": "display_data"
    }
   ],
   "source": [
    "#plot xcompletion% with passes\n",
    "#in the first graph their are people with high pass% but nearly no shots so we cant say they are truly 95% passers\n",
    "#so we have to assumer they are only slightly above average; however, the people with 400+ shots that are 90% passers\n",
    "#have more accurate numbers because they have consistently made high percentage passes so they dont regress as much\n",
    "fig = plt.figure(figsize=(15,5))\n",
    "\n",
    "ax = fig.add_subplot(121)\n",
    "ax.scatter(tot_passes,passcomp )\n",
    "ax.set_title('xCompletion% vs passes made')\n",
    "\n",
    "ax = fig.add_subplot(122)\n",
    "plt.scatter(tot_passes, reg_val.values())\n",
    "ax.set_title('Regressed xCompletion% vs passes made')\n",
    "plt.show()"
   ]
  },
  {
   "cell_type": "markdown",
   "metadata": {},
   "source": [
    "# Re-create the player databse with GP and xCompletion%"
   ]
  },
  {
   "cell_type": "code",
   "execution_count": 11,
   "metadata": {},
   "outputs": [],
   "source": [
    "# add regressed xCompletion and games played to the old player dictionary\n",
    "for player in players:\n",
    "    players[player]['Games'] = len(players[player]['Games'])\n",
    "    players[player]['xCompletion%'] = round((reg_val[player] * 100), 2)\n",
    "    players[player]['Orig_pass%'] = xp[player][0]\n",
    "    players[player]['num_passes'] = xp[player][1]"
   ]
  },
  {
   "cell_type": "code",
   "execution_count": 12,
   "metadata": {},
   "outputs": [
    {
     "name": "stdout",
     "output_type": "stream",
     "text": [
      "{'Games': 4, 'Name': 'Miguel Arturo Layún Prado', 'Team': 'Mexico', 'Position': 'Back', 'xCompletion%': 82.74, 'Orig_pass%': 0.7848036800395164, 'num_passes': 121}\n"
     ]
    }
   ],
   "source": [
    "#new player info\n",
    "print(players[5556])"
   ]
  },
  {
   "cell_type": "code",
   "execution_count": 13,
   "metadata": {},
   "outputs": [],
   "source": [
    "xcompletion = pd.DataFrame(players).transpose()"
   ]
  },
  {
   "cell_type": "code",
   "execution_count": 14,
   "metadata": {},
   "outputs": [
    {
     "data": {
      "text/html": [
       "<div>\n",
       "<style scoped>\n",
       "    .dataframe tbody tr th:only-of-type {\n",
       "        vertical-align: middle;\n",
       "    }\n",
       "\n",
       "    .dataframe tbody tr th {\n",
       "        vertical-align: top;\n",
       "    }\n",
       "\n",
       "    .dataframe thead th {\n",
       "        text-align: right;\n",
       "    }\n",
       "</style>\n",
       "<table border=\"1\" class=\"dataframe\">\n",
       "  <thead>\n",
       "    <tr style=\"text-align: right;\">\n",
       "      <th></th>\n",
       "      <th>Games</th>\n",
       "      <th>Name</th>\n",
       "      <th>Orig_pass%</th>\n",
       "      <th>Position</th>\n",
       "      <th>Team</th>\n",
       "      <th>num_passes</th>\n",
       "      <th>xCompletion%</th>\n",
       "    </tr>\n",
       "  </thead>\n",
       "  <tbody>\n",
       "    <tr>\n",
       "      <th>3244</th>\n",
       "      <td>7</td>\n",
       "      <td>John Stones</td>\n",
       "      <td>0.913549</td>\n",
       "      <td>Back</td>\n",
       "      <td>England</td>\n",
       "      <td>479</td>\n",
       "      <td>90.31</td>\n",
       "    </tr>\n",
       "    <tr>\n",
       "      <th>5201</th>\n",
       "      <td>4</td>\n",
       "      <td>Sergio Ramos García</td>\n",
       "      <td>0.906019</td>\n",
       "      <td>Back</td>\n",
       "      <td>Spain</td>\n",
       "      <td>496</td>\n",
       "      <td>89.87</td>\n",
       "    </tr>\n",
       "    <tr>\n",
       "      <th>5642</th>\n",
       "      <td>6</td>\n",
       "      <td>Axel Witsel</td>\n",
       "      <td>0.926542</td>\n",
       "      <td>Midfield</td>\n",
       "      <td>Belgium</td>\n",
       "      <td>325</td>\n",
       "      <td>89.01</td>\n",
       "    </tr>\n",
       "    <tr>\n",
       "      <th>5213</th>\n",
       "      <td>4</td>\n",
       "      <td>Gerard Piqué Bernabéu</td>\n",
       "      <td>0.910196</td>\n",
       "      <td>Back</td>\n",
       "      <td>Spain</td>\n",
       "      <td>354</td>\n",
       "      <td>88.43</td>\n",
       "    </tr>\n",
       "    <tr>\n",
       "      <th>5506</th>\n",
       "      <td>4</td>\n",
       "      <td>Javier Alejandro Mascherano</td>\n",
       "      <td>0.908707</td>\n",
       "      <td>Midfield</td>\n",
       "      <td>Argentina</td>\n",
       "      <td>348</td>\n",
       "      <td>88.26</td>\n",
       "    </tr>\n",
       "  </tbody>\n",
       "</table>\n",
       "</div>"
      ],
      "text/plain": [
       "     Games                         Name Orig_pass%  Position       Team  \\\n",
       "3244     7                  John Stones   0.913549      Back    England   \n",
       "5201     4          Sergio Ramos García   0.906019      Back      Spain   \n",
       "5642     6                  Axel Witsel   0.926542  Midfield    Belgium   \n",
       "5213     4        Gerard Piqué Bernabéu   0.910196      Back      Spain   \n",
       "5506     4  Javier Alejandro Mascherano   0.908707  Midfield  Argentina   \n",
       "\n",
       "     num_passes xCompletion%  \n",
       "3244        479        90.31  \n",
       "5201        496        89.87  \n",
       "5642        325        89.01  \n",
       "5213        354        88.43  \n",
       "5506        348        88.26  "
      ]
     },
     "execution_count": 14,
     "metadata": {},
     "output_type": "execute_result"
    }
   ],
   "source": [
    "xcompletion = xcompletion.sort_values(by='xCompletion%', ascending=False)\n",
    "xcompletion.head()"
   ]
  },
  {
   "cell_type": "markdown",
   "metadata": {},
   "source": [
    "# Breaking it Down by Position"
   ]
  },
  {
   "cell_type": "code",
   "execution_count": 15,
   "metadata": {},
   "outputs": [
    {
     "name": "stdout",
     "output_type": "stream",
     "text": [
      "{'Forward': [88, [41, 54, 21, 6, 22, 64, 10, 58, 20, 20, 102, 16, 86, 51, 35, 132, 132, 248, 5, 67, 3, 83, 4, 126, 106, 62, 113, 31, 3, 12, 43, 16, 1, 62, 19, 28, 98, 95, 41, 135, 148, 7, 33, 3, 63, 202, 15, 51, 27, 81, 23, 105, 77, 63, 3, 36, 20, 44, 20, 15, 64, 18, 15, 35, 21, 1, 89, 13, 79, 34, 13, 24, 8, 26, 17, 9, 16, 6, 9, 86, 73, 14, 2, 18, 18, 16, 2, 1]], 'Midfield': [197, [26, 111, 147, 91, 142, 257, 266, 164, 69, 60, 107, 475, 270, 312, 285, 67, 72, 44, 40, 36, 49, 5, 71, 44, 346, 231, 42, 92, 27, 146, 168, 104, 184, 122, 185, 11, 143, 527, 379, 426, 73, 353, 102, 8, 122, 136, 215, 15, 9, 167, 133, 266, 227, 153, 204, 96, 86, 132, 160, 165, 251, 90, 131, 113, 130, 113, 15, 171, 24, 120, 95, 152, 155, 24, 10, 135, 114, 350, 192, 325, 125, 325, 156, 48, 158, 228, 393, 89, 302, 244, 152, 194, 122, 305, 138, 104, 144, 211, 348, 49, 105, 109, 34, 7, 64, 61, 89, 118, 34, 110, 129, 106, 37, 63, 166, 81, 153, 95, 135, 5, 90, 76, 126, 88, 30, 210, 41, 142, 127, 245, 99, 136, 74, 77, 114, 125, 123, 206, 173, 57, 117, 74, 106, 11, 43, 6, 66, 25, 126, 323, 17, 51, 4, 85, 27, 60, 114, 9, 22, 26, 2, 258, 41, 33, 3, 173, 100, 47, 4, 19, 42, 5, 146, 42, 47, 16, 180, 162, 23, 71, 68, 11, 22, 42, 79, 7, 21, 20, 8, 67, 104, 13, 25, 17, 23, 5, 3]], 'Back': [193, [125, 168, 82, 179, 213, 132, 238, 31, 496, 414, 354, 181, 62, 76, 101, 19, 216, 63, 304, 66, 109, 171, 134, 181, 57, 100, 166, 197, 221, 52, 372, 298, 374, 317, 158, 76, 35, 99, 276, 339, 104, 121, 226, 146, 180, 257, 224, 64, 260, 160, 165, 109, 12, 161, 177, 252, 167, 93, 82, 6, 127, 122, 15, 119, 131, 32, 170, 114, 55, 110, 106, 6, 352, 277, 236, 80, 446, 289, 256, 291, 228, 385, 479, 434, 59, 320, 214, 203, 144, 119, 56, 74, 296, 162, 116, 234, 96, 50, 78, 53, 145, 95, 192, 16, 112, 186, 53, 42, 101, 64, 209, 218, 215, 159, 1, 185, 27, 290, 193, 179, 191, 87, 45, 102, 138, 117, 90, 80, 83, 55, 98, 191, 180, 154, 249, 113, 67, 86, 87, 49, 16, 70, 44, 86, 184, 265, 107, 89, 95, 119, 10, 64, 92, 73, 215, 152, 64, 41, 1, 57, 36, 12, 105, 86, 69, 24, 118, 125, 90, 113, 170, 110, 81, 159, 78, 129, 44, 42, 34, 51, 46, 42, 83, 16, 36, 32, 58, 78, 45, 53, 87, 3, 32]], 'Wing': [81, [67, 213, 42, 197, 92, 13, 54, 87, 79, 126, 163, 209, 40, 173, 54, 72, 169, 90, 24, 139, 82, 46, 123, 155, 92, 72, 19, 66, 30, 23, 75, 17, 140, 271, 197, 283, 52, 106, 104, 48, 88, 72, 37, 51, 133, 29, 173, 187, 1, 114, 86, 18, 87, 49, 34, 122, 35, 83, 23, 56, 65, 64, 5, 22, 81, 113, 5, 22, 71, 93, 10, 26, 71, 11, 13, 10, 2, 25, 34, 11, 14]]}\n"
     ]
    }
   ],
   "source": [
    "#Build a list of every position we have, done by scanning every player and seeing if their \n",
    "#position is included in the dict, if yes we disregard if not we add it to the list\n",
    "#dict will contain two values at this point (number of players, list of pass totals)\n",
    "#number of players will be replaced later currently just for understanding player demographics\n",
    "positions = {}\n",
    "for player in players:\n",
    "    pos = players[player]['Position']\n",
    "    #there are only 7 strikers so they will be lumped in with forwards\n",
    "    if pos == 'Striker':\n",
    "        pos = 'Forward'\n",
    "        players[player]['Position'] = 'Forward'\n",
    "    if pos not in positions:\n",
    "        positions[pos] = []\n",
    "        positions[pos].append(1)\n",
    "        positions[pos].append(0)\n",
    "        positions[pos][1] = []\n",
    "        positions[pos][1].append(players[player]['num_passes'])\n",
    "    else:\n",
    "        positions[pos][0] = positions[pos][0] + 1\n",
    "        positions[pos][1].append(players[player]['num_passes'])\n",
    "    \n",
    "print(positions)"
   ]
  },
  {
   "cell_type": "code",
   "execution_count": 16,
   "metadata": {},
   "outputs": [
    {
     "name": "stdout",
     "output_type": "stream",
     "text": [
      "{'Forward': [0.8412085972978943, [41, 54, 21, 6, 22, 64, 10, 58, 20, 20, 102, 16, 86, 51, 35, 132, 132, 248, 5, 67, 3, 83, 4, 126, 106, 62, 113, 31, 3, 12, 43, 16, 1, 62, 19, 28, 98, 95, 41, 135, 148, 7, 33, 3, 63, 202, 15, 51, 27, 81, 23, 105, 77, 63, 3, 36, 20, 44, 20, 15, 64, 18, 15, 35, 21, 1, 89, 13, 79, 34, 13, 24, 8, 26, 17, 9, 16, 6, 9, 86, 73, 14, 2, 18, 18, 16, 2, 1]], 'Midfield': [0.8542594735580582, [26, 111, 147, 91, 142, 257, 266, 164, 69, 60, 107, 475, 270, 312, 285, 67, 72, 44, 40, 36, 49, 5, 71, 44, 346, 231, 42, 92, 27, 146, 168, 104, 184, 122, 185, 11, 143, 527, 379, 426, 73, 353, 102, 8, 122, 136, 215, 15, 9, 167, 133, 266, 227, 153, 204, 96, 86, 132, 160, 165, 251, 90, 131, 113, 130, 113, 15, 171, 24, 120, 95, 152, 155, 24, 10, 135, 114, 350, 192, 325, 125, 325, 156, 48, 158, 228, 393, 89, 302, 244, 152, 194, 122, 305, 138, 104, 144, 211, 348, 49, 105, 109, 34, 7, 64, 61, 89, 118, 34, 110, 129, 106, 37, 63, 166, 81, 153, 95, 135, 5, 90, 76, 126, 88, 30, 210, 41, 142, 127, 245, 99, 136, 74, 77, 114, 125, 123, 206, 173, 57, 117, 74, 106, 11, 43, 6, 66, 25, 126, 323, 17, 51, 4, 85, 27, 60, 114, 9, 22, 26, 2, 258, 41, 33, 3, 173, 100, 47, 4, 19, 42, 5, 146, 42, 47, 16, 180, 162, 23, 71, 68, 11, 22, 42, 79, 7, 21, 20, 8, 67, 104, 13, 25, 17, 23, 5, 3]], 'Back': [0.8324115736382137, [125, 168, 82, 179, 213, 132, 238, 31, 496, 414, 354, 181, 62, 76, 101, 19, 216, 63, 304, 66, 109, 171, 134, 181, 57, 100, 166, 197, 221, 52, 372, 298, 374, 317, 158, 76, 35, 99, 276, 339, 104, 121, 226, 146, 180, 257, 224, 64, 260, 160, 165, 109, 12, 161, 177, 252, 167, 93, 82, 6, 127, 122, 15, 119, 131, 32, 170, 114, 55, 110, 106, 6, 352, 277, 236, 80, 446, 289, 256, 291, 228, 385, 479, 434, 59, 320, 214, 203, 144, 119, 56, 74, 296, 162, 116, 234, 96, 50, 78, 53, 145, 95, 192, 16, 112, 186, 53, 42, 101, 64, 209, 218, 215, 159, 1, 185, 27, 290, 193, 179, 191, 87, 45, 102, 138, 117, 90, 80, 83, 55, 98, 191, 180, 154, 249, 113, 67, 86, 87, 49, 16, 70, 44, 86, 184, 265, 107, 89, 95, 119, 10, 64, 92, 73, 215, 152, 64, 41, 1, 57, 36, 12, 105, 86, 69, 24, 118, 125, 90, 113, 170, 110, 81, 159, 78, 129, 44, 42, 34, 51, 46, 42, 83, 16, 36, 32, 58, 78, 45, 53, 87, 3, 32]], 'Wing': [0.8173845219454124, [67, 213, 42, 197, 92, 13, 54, 87, 79, 126, 163, 209, 40, 173, 54, 72, 169, 90, 24, 139, 82, 46, 123, 155, 92, 72, 19, 66, 30, 23, 75, 17, 140, 271, 197, 283, 52, 106, 104, 48, 88, 72, 37, 51, 133, 29, 173, 187, 1, 114, 86, 18, 87, 49, 34, 122, 35, 83, 23, 56, 65, 64, 5, 22, 81, 113, 5, 22, 71, 93, 10, 26, 71, 11, 13, 10, 2, 25, 34, 11, 14]]}\n"
     ]
    }
   ],
   "source": [
    "for position in positions:\n",
    "    df = xcompletion[xcompletion['Position'] == position]\n",
    "    mean = float(df[['Orig_pass%']].mean())\n",
    "    positions[position][0] = mean\n",
    "    \n",
    "print(positions)"
   ]
  },
  {
   "cell_type": "code",
   "execution_count": 17,
   "metadata": {
    "scrolled": true
   },
   "outputs": [
    {
     "name": "stdout",
     "output_type": "stream",
     "text": [
      "{3531: 0.8385566137904459, 3536: 0.8529929130392948, 3568: 0.8622963839856536, 4063: 0.8354507955610816, 5250: 0.8266827196673079, 5251: 0.839649679820817, 5252: 0.8357391962225998, 5253: 0.8121246533106374, 5254: 0.8309511870765822, 5257: 0.8344175546879605, 5261: 0.8488118567727863, 5262: 0.8668779687332614, 5263: 0.801719452517722, 5173: 0.8717587754607792, 5176: 0.8425254078928012, 5178: 0.8460819770762784, 5183: 0.8311737069196977, 5184: 0.8399553978754102, 5187: 0.8606085208042575, 5188: 0.8582919759051675, 5190: 0.842362447819017, 5191: 0.853867569373691, 5192: 0.8589834819256174, 5716: 0.8686818420521231, 6290: 0.8350971778823457, 3064: 0.8699631110120201, 4926: 0.8520320033989898, 5198: 0.847372853040133, 5199: 0.8824831342192087, 5200: 0.8221460472953448, 5201: 0.9060190629638679, 5203: 0.8868410728406663, 5211: 0.8562263682918718, 5213: 0.8879269470373958, 5216: 0.8588039600185433, 5718: 0.8443479892616989, 5719: 0.8594538332929321, 5721: 0.8585569981302715, 5220: 0.8286285346230204, 5224: 0.840392346605618, 5225: 0.8529865050747965, 5226: 0.8547054632319406, 5228: 0.8480414833508719, 5230: 0.8131771421088487, 5231: 0.8468618442629678, 5235: 0.8037995792791094, 5239: 0.8460174988706289, 5240: 0.8520332372141053, 5241: 0.8419297180361703, 5720: 0.8280414856035195, 5722: 0.8522309659350198, 3500: 0.882260458375147, 3533: 0.8116821286261651, 5540: 0.8849495137424137, 5543: 0.8429447693434331, 5544: 0.7996922266496853, 5545: 0.8517890332267006, 5546: 0.8312215992804773, 5548: 0.8278872362578906, 5549: 0.8598507722968519, 5554: 0.8579381233979989, 5835: 0.8460469232100317, 6359: 0.8415879352065674, 3576: 0.8111076357572442, 3702: 0.8249888613262631, 4417: 0.8253000730476752, 5607: 0.8351422489604639, 5611: 0.8534509216017334, 5612: 0.8182045995370009, 5613: 0.844704283360826, 5615: 0.8379541928637453, 5621: 0.7832607883556233, 5624: 0.8601316745939875, 5625: 0.8503062531419844, 6358: 0.8250187335830029, 11098: 0.8462237497928947, 3027: 0.8457394528054892, 3043: 0.8456310641241653, 3959: 0.8570344427537037, 4447: 0.8213460639393129, 4763: 0.8175270932922489, 5516: 0.8094321819970838, 5520: 0.8557948630528824, 5522: 0.8440271416791874, 5527: 0.8524254772241324, 5534: 0.8344975449840122, 5536: 0.8288034140456709, 5732: 0.8416240767324152, 6355: 0.8184939612239344, 6356: 0.8550927981888428, 3471: 0.8736270813685227, 5456: 0.8431677810428095, 5457: 0.8023200032411532, 5460: 0.8594115733554379, 5461: 0.8357352981093616, 5463: 0.8354910049300454, 5465: 0.7863282118853393, 5468: 0.8516783327057416, 5469: 0.888388648342958, 5470: 0.8337549342133469, 5472: 0.8455371960310505, 5474: 0.777901040004179, 6305: 0.8526676228964286, 6308: 0.810149204516308, 2948: 0.8120708015627182, 2999: 0.8449438287224602, 3009: 0.8207275378057848, 3245: 0.8250651302829342, 3261: 0.8278087097838169, 3446: 0.8423795890345165, 3604: 0.8507238838776463, 3961: 0.8753718954447063, 5477: 0.8122434893570027, 5484: 0.8227480673928772, 5485: 0.858134244687156, 5487: 0.8345629903641347, 5737: 0.8634253465336424, 5524: 0.823677882751931, 6302: 0.8415666343295731, 6303: 0.8555547736029093, 3058: 0.8424675041055562, 5556: 0.8207975512078863, 5560: 0.8503062194986, 5563: 0.8581973742396038, 5564: 0.8432636558497785, 5567: 0.8427134456154373, 5571: 0.8259317783968789, 5573: 0.8365827376868926, 5575: 0.8567508087498972, 5576: 0.8288297520866017, 5985: 0.8190657084454899, 6316: 0.8419209710012273, 6317: 0.8533794854753718, 5605: 0.852206214462556, 5617: 0.8435959206234914, 4319: 0.8417806025089651, 5246: 0.8171180496916999, 5247: 0.8530580351140957, 5248: 0.8150383256722362, 5249: 0.83465497051824, 5255: 0.8632090662824907, 5256: 0.8031805225513446, 5258: 0.8151886040362495, 5260: 0.8584202051123728, 5266: 0.8594139698844303, 5717: 0.7858482812761496, 6297: 0.8415894150157155, 6300: 0.8422841314654826, 5170: 0.8104719389072768, 5171: 0.8390163933934393, 5174: 0.8194673230775281, 5175: 0.8245263057982809, 5179: 0.8584819740415768, 5181: 0.8585398558172779, 5182: 0.82084159742895, 5186: 0.8005213612847827, 5194: 0.8199353333261928, 5195: 0.8397932984994888, 5677: 0.8289117583561494, 6298: 0.8328134663513634, 6299: 0.8237285605698403, 3168: 0.8595364005421837, 3193: 0.8594037243016858, 3329: 0.8278663436791882, 3707: 0.8625964929672216, 3960: 0.845500097433935, 4272: 0.8622426595846527, 4367: 0.8500190011028866, 5207: 0.8522617027786739, 5209: 0.8057427995579073, 5214: 0.8737030519789404, 5215: 0.8001592254459119, 5218: 0.8463129658002407, 20016: 0.8300411167646953, 3302: 0.852098062136617, 5219: 0.8322143916971224, 5221: 0.8340437571886344, 5223: 0.8425791458165115, 5229: 0.8436095296603631, 5232: 0.8593760629740662, 5234: 0.832551520511673, 5236: 0.8531969292156627, 5237: 0.833726720467997, 5242: 0.8606285785135293, 5243: 0.8194660569483526, 5244: 0.8408860508517526, 5245: 0.8237131653834437, 5222: 0.8298709953829195, 5238: 0.8532296394519664, 3338: 0.8508306664916228, 3647: 0.8559762964708243, 3708: 0.8324280608531451, 3963: 0.8355724550821262, 5455: 0.8261790057741288, 5458: 0.8473192494900686, 5462: 0.840127060652088, 5464: 0.8418415381532334, 5466: 0.8439495323230314, 5467: 0.8254642771122257, 5471: 0.8352989937729772, 5473: 0.8310860752216763, 5475: 0.8559669104890513, 5459: 0.821099834851674, 3878: 0.8556132720446188, 5259: 0.8423861183359738, 5264: 0.8493067365613748, 5268: 0.8118400893535118, 6350: 0.8522248733895138, 6352: 0.8335861111457739, 6351: 0.8364300618463991, 5202: 0.8505676346024971, 5217: 0.842070902318403, 5177: 0.8403030298792538, 5193: 0.8051633761106267, 6353: 0.829092182205153, 6354: 0.8116001768801431, 2954: 0.856548229247317, 3077: 0.8384110280690922, 3089: 0.8344978904410549, 3101: 0.8848876092132623, 3176: 0.8435499521483819, 3289: 0.8521767680072081, 3296: 0.8549528159798059, 3621: 0.8464692595144889, 4831: 0.8390444954923587, 5642: 0.8988360690717554, 6332: 0.8383003460534929, 20005: 0.868491959144615, 3054: 0.8641250428913629, 3202: 0.8406347370798003, 3295: 0.8719271935337312, 3472: 0.8418945666065677, 3501: 0.8675148974074187, 3535: 0.8469936338972335, 4320: 0.7654172501090477, 5542: 0.8704450445812515, 5551: 0.8651858982729899, 5552: 0.7844698481729384, 5553: 0.8567786117442402, 5837: 0.8179685402258647, 5838: 0.8563829483668968, 3094: 0.8520706165244725, 3205: 0.8648994221692001, 3233: 0.8454304557876545, 3244: 0.9107680643329596, 3293: 0.8714868662471495, 3308: 0.812723675211534, 3318: 0.8574368421115777, 3336: 0.8741096048953522, 3532: 0.8536039417858898, 3612: 0.8257451305835616, 4597: 0.861592452888893, 10955: 0.8335442745869, 10956: 0.8643409749852068, 4709: 0.8335321979550441, 6038: 0.8397378570118029, 4375: 0.846643258918397, 5476: 0.846827438423849, 5492: 0.8387824636946573, 20004: 0.8496922927024448, 3632: 0.8261894108289466, 5518: 0.800941447278289, 5519: 0.8526766913948872, 5521: 0.8427575716003157, 5525: 0.8264890358284496, 5526: 0.8596946505338469, 5529: 0.8467169180028964, 5530: 0.837218086503109, 5531: 0.8419748948209145, 5532: 0.8358278709418209, 5533: 0.841614890691794, 5535: 0.8170707346243891, 5738: 0.8418932153715497, 2995: 0.8044293818791517, 3090: 0.8762747199182015, 3237: 0.8389778887646386, 3602: 0.8497520409777636, 5496: 0.8112934519149573, 5497: 0.8263757821043092, 5499: 0.8387623617933713, 5503: 0.8260356921128313, 5504: 0.8576222871463199, 5506: 0.89021329665644, 5507: 0.8426307447153769, 5510: 0.8615760412953941, 5513: 0.8567154349765583, 3720: 0.8186108678600572, 3944: 0.8299277631223189, 5495: 0.854293037033296, 5500: 0.8420066387831231, 5501: 0.8008559241446873, 5502: 0.8546906944166845, 5505: 0.8208297503373092, 5508: 0.8209726235631276, 5509: 0.8438646021371619, 5511: 0.822969240509762, 5512: 0.857056682581652, 5514: 0.8499418207517683, 5515: 0.8407627557666024, 5208: 0.8682808810542464, 5204: 0.8546911477758925, 3037: 0.8685061527254267, 5630: 0.818246748759923, 3314: 0.8519377793325124, 3504: 0.8580754844130226, 3594: 0.839850044535407, 3457: 0.848976189350528, 5633: 0.8327429233899599, 5639: 0.8700296532237607, 2974: 0.8554456301080701, 3196: 0.8324138342528635, 3557: 0.8514233025894222, 3767: 0.8728580467269723, 4826: 0.8317726660033543, 5647: 0.8331814372660693, 5649: 0.8619837937470529, 5650: 0.8571863413392263, 5651: 0.8413953628424927, 5654: 0.8545555392217109, 5655: 0.8315149499845995, 5656: 0.834166172363871, 5936: 0.8404033053750705, 10960: 0.8299867592690882, 5739: 0.8374821713439876, 5480: 0.8557543427301966, 5657: 0.854838392773617, 3445: 0.8678602667706701, 3494: 0.8339517980791453, 5678: 0.8611381169144673, 5685: 0.8619207240047271, 5686: 0.8578376284785167, 5688: 0.8171137393214319, 5689: 0.8608873810839874, 5691: 0.7902059341838323, 5692: 0.8006416728772222, 5696: 0.8435000292231282, 6193: 0.8602653802431517, 6196: 0.8469069694190441, 6334: 0.8546414626582088, 6360: 0.8324300444013065, 3254: 0.8180202656243262, 5741: 0.856800406540263, 5742: 0.8535283251685856, 6349: 0.8367278197426116, 3300: 0.8558249681664729, 3530: 0.8281983396594373, 5679: 0.8490857814231773, 5681: 0.8807265440975318, 5682: 0.8497840920031114, 5683: 0.8501798199772901, 5684: 0.8562810002667133, 5687: 0.8592297740081305, 5690: 0.8297076001523944, 5693: 0.8504354299555263, 5694: 0.8675535519821379, 5697: 0.8383761432651173, 6426: 0.8173232948271241, 3381: 0.8626040470803609, 3455: 0.8573548187923911, 3831: 0.7974986248263999, 4269: 0.8485729519850647, 5580: 0.8279809073747727, 5583: 0.842012778349606, 5587: 0.848732440698002, 5588: 0.8336199211953299, 5589: 0.8557610821143411, 5591: 0.7961021143059298, 5594: 0.8186542759014143, 5596: 0.804752392199885, 5603: 0.8494067909635115, 5581: 0.8341327782665177, 5582: 0.8604941283519207, 5584: 0.8358161631371517, 5585: 0.8136781721013114, 5586: 0.8437108563472439, 5590: 0.8372342214646877, 5592: 0.8365160319149287, 5593: 0.8011441174411407, 5595: 0.8342739128094527, 5598: 0.8269237186818079, 5599: 0.8522257517437596, 5600: 0.8307689233693323, 5602: 0.8254404150847383, 3281: 0.8537797139004196, 5478: 0.8439892926179731, 5479: 0.8285535486692444, 5481: 0.8273691008159291, 5482: 0.8162951074776688, 5483: 0.8159551733072169, 5486: 0.8466806562681647, 5488: 0.8586625600870528, 5489: 0.8673781618696546, 5490: 0.8361294628305084, 5491: 0.854846529723812, 5493: 0.8380674334127748, 5494: 0.8227962677596494, 5632: 0.8557529428430092, 5628: 0.8200450571680489, 5629: 0.8428069791677211, 5631: 0.8407177352302437, 5634: 0.817927102168674, 5635: 0.828509365869938, 5637: 0.8180505843184542, 5638: 0.8315959331434495, 5640: 0.8657441650429551, 5641: 0.831243281798018, 5643: 0.8419143503716116, 5644: 0.8175288033700235, 5645: 0.8564133807605674, 5646: 0.8602022134439631, 5743: 0.8538561206440852, 19597: 0.8240882018193748, 6138: 0.8527759144804185, 6139: 0.8334768657347702, 6140: 0.8533140076339438, 6330: 0.8189801643543076, 6331: 0.8418505902271357, 3569: 0.841712341289952, 3645: 0.8391885786232116, 3664: 0.8492993178427618, 3167: 0.8488219171135422, 3186: 0.8315313475414443, 5555: 0.8522843333990191, 5557: 0.8314978511090708, 5559: 0.8553266832119846, 5562: 0.8159511893198262, 5565: 0.83685532251701, 5574: 0.850567959814975, 5578: 0.8422907980352926, 5579: 0.847243046024782, 6039: 0.8569530841944705, 6040: 0.8392509168919513, 10287: 0.8600147204885592, 19988: 0.8534061183242182, 3083: 0.8362507680108945, 3605: 0.8572097336966125, 5604: 0.8287950327069551, 5606: 0.8373860474384272, 5608: 0.8256949084864318, 5609: 0.8295557976029122, 5610: 0.8212999358463748, 5616: 0.8538912598749321, 5618: 0.8546471605830048, 5620: 0.8246744967518476, 5623: 0.8535937182834077, 5626: 0.8386647132317393, 5627: 0.8407128391934705, 5723: 0.8551893196174915, 5724: 0.8527165583717399, 5725: 0.8383159093092123, 5726: 0.8436374583989028, 5727: 0.8342577284852396, 5830: 0.8315103606120302, 5537: 0.8369441299981952, 5538: 0.8537762305808971, 5541: 0.8310863100818962, 5834: 0.8409735067855337, 5836: 0.8243566309454278, 6326: 0.8163337067059216, 6327: 0.8534446830117539, 6328: 0.8324280069384246, 6329: 0.8326986355319951, 3063: 0.8367734635234662, 5539: 0.872414507764496, 5986: 0.825500533104892, 5988: 0.8475122219696917, 5989: 0.8545502297950646, 6323: 0.8335855326701008, 6325: 0.854140725048816, 3496: 0.8555635044703813, 5566: 0.8593732711253703, 5572: 0.8439141869657127, 6322: 0.8397678100314969, 6324: 0.8210791052929959, 6314: 0.8414805206721876, 5523: 0.8566581682208684, 6313: 0.8537543425981001, 6315: 0.855701729314386, 5558: 0.8604059412781417, 5561: 0.8325549062361357, 5568: 0.8424152922868661, 5569: 0.8300635345143133, 6301: 0.8541383216998238, 2941: 0.8154214122349818, 3404: 0.8188793653906586, 3436: 0.8577656386620258, 3555: 0.8425034502270862, 3603: 0.8414547328786879, 3629: 0.8146854952067688, 3684: 0.8568667668817741, 5661: 0.8223025221416369, 5664: 0.8302666583665506, 5671: 0.8557070520465115, 5674: 0.8196407211103685, 5675: 0.8252094384077536, 5676: 0.8505249197605677, 3637: 0.865679149917272, 4626: 0.8469827859459873, 5658: 0.8302306116778806, 5660: 0.851871778388518, 5662: 0.8478777414297209, 5663: 0.8203015357124908, 5665: 0.8512350804892796, 5666: 0.8204394138632694, 5667: 0.7913425150819067, 5668: 0.8609223849234799, 5670: 0.8410965370763384, 5672: 0.8482335822629565, 5673: 0.8377500122499215, 6320: 0.8250902852569628, 5833: 0.8127014730217418, 6318: 0.8142718625762954, 6321: 0.8388860176019776, 5185: 0.8612746792507757, 5196: 0.8402496659125136, 5713: 0.8203551629710716, 5715: 0.835654083122181, 6307: 0.835335873334125, 6309: 0.8354879542590352, 6310: 0.8550439769335798, 5831: 0.8316767579102119, 6304: 0.8153059039366363, 6306: 0.8380975572011582, 4277: 0.8529347204631526, 3810: 0.8464458802256871, 6191: 0.8481015911360513, 3252: 0.8356385295166064, 6345: 0.840180255325117, 6347: 0.8548985787940725, 6348: 0.8548110703374528, 6343: 0.8293982765647991, 6344: 0.8259502957714319, 6346: 0.8251095993756768, 5180: 0.8496713802526952, 5197: 0.838411922030587, 5517: 0.8566633773876259, 3034: 0.8397003073738689, 6194: 0.8539637645765423, 6195: 0.8613743827826387, 5695: 0.8450300337362374, 6192: 0.8547006303942041, 5832: 0.8571665685535808, 5829: 0.8409041763011585, 3279: 0.8255010006510834, 5680: 0.8319792451366291, 4685: 0.8272905846968296, 6336: 0.8128492059308666, 6340: 0.8191024527013536, 6337: 0.8421947557610477, 6338: 0.8455714775365046, 6339: 0.8559175722257395, 4372: 0.8326622932205081, 6357: 0.8558121050316713, 3145: 0.8182497737200236, 3962: 0.8402940965286346, 6335: 0.8298908226526891, 6333: 0.8406585774461404, 5839: 0.8538761588898577, 5987: 0.8550040140888454}\n"
     ]
    }
   ],
   "source": [
    "#perform same regression but this time to the position average not general average\n",
    "reg_val_pos = {}\n",
    "for player in players:\n",
    "    thresh = np.max(positions[players[player]['Position']][1]) \n",
    "    passes = players[player]['num_passes']\n",
    "    xcomp = players[player]['Orig_pass%']\n",
    "    to_add = thresh - passes\n",
    "    av_prec = positions[players[player]['Position']][0]\n",
    "    new_val = (((passes/thresh) * xcomp) + ((to_add/thresh) * av_prec))\n",
    "    reg_val_pos[player] = new_val\n",
    "  \n",
    "print(reg_val_pos)"
   ]
  },
  {
   "cell_type": "code",
   "execution_count": 18,
   "metadata": {},
   "outputs": [
    {
     "data": {
      "image/png": "[encoded data removed]",
      "text/plain": [
       "<Figure size 432x288 with 1 Axes>"
      ]
     },
     "metadata": {
      "needs_background": "light"
     },
     "output_type": "display_data"
    }
   ],
   "source": [
    "plt.scatter(tot_passes,reg_val_pos.values())\n",
    "plt.show()"
   ]
  },
  {
   "cell_type": "code",
   "execution_count": 19,
   "metadata": {},
   "outputs": [
    {
     "name": "stdout",
     "output_type": "stream",
     "text": [
      "0.840903915496191\n",
      "0.8558070125480138\n",
      "0.8351868596460756\n",
      "0.8190753283007149\n"
     ]
    }
   ],
   "source": [
    "for pos in positions:\n",
    "    positions[pos][1] = []\n",
    "for player in players:\n",
    "    pos = players[player]['Position']\n",
    "    positions[pos][1].append(reg_val_pos[player])\n",
    "for pos in positions:\n",
    "    positions[pos] = np.mean(positions[pos][1])\n",
    "    print(positions[pos])"
   ]
  },
  {
   "cell_type": "code",
   "execution_count": 22,
   "metadata": {},
   "outputs": [
    {
     "data": {
      "text/html": [
       "<div>\n",
       "<style scoped>\n",
       "    .dataframe tbody tr th:only-of-type {\n",
       "        vertical-align: middle;\n",
       "    }\n",
       "\n",
       "    .dataframe tbody tr th {\n",
       "        vertical-align: top;\n",
       "    }\n",
       "\n",
       "    .dataframe thead th {\n",
       "        text-align: right;\n",
       "    }\n",
       "</style>\n",
       "<table border=\"1\" class=\"dataframe\">\n",
       "  <thead>\n",
       "    <tr style=\"text-align: right;\">\n",
       "      <th></th>\n",
       "      <th>Games</th>\n",
       "      <th>Name</th>\n",
       "      <th>Orig_pass%</th>\n",
       "      <th>Position</th>\n",
       "      <th>Team</th>\n",
       "      <th>num_passes</th>\n",
       "      <th>xCompletion%</th>\n",
       "      <th>xP% above position</th>\n",
       "      <th>xPasses</th>\n",
       "    </tr>\n",
       "  </thead>\n",
       "  <tbody>\n",
       "    <tr>\n",
       "      <th>5201</th>\n",
       "      <td>4</td>\n",
       "      <td>Sergio Ramos García</td>\n",
       "      <td>0.906019</td>\n",
       "      <td>Back</td>\n",
       "      <td>Spain</td>\n",
       "      <td>496</td>\n",
       "      <td>89.87</td>\n",
       "      <td>7.08</td>\n",
       "      <td>445.76</td>\n",
       "    </tr>\n",
       "    <tr>\n",
       "      <th>5463</th>\n",
       "      <td>7</td>\n",
       "      <td>Luka Modrić</td>\n",
       "      <td>0.835491</td>\n",
       "      <td>Midfield</td>\n",
       "      <td>Croatia</td>\n",
       "      <td>527</td>\n",
       "      <td>83.57</td>\n",
       "      <td>-2.03</td>\n",
       "      <td>440.41</td>\n",
       "    </tr>\n",
       "    <tr>\n",
       "      <th>3244</th>\n",
       "      <td>7</td>\n",
       "      <td>John Stones</td>\n",
       "      <td>0.913549</td>\n",
       "      <td>Back</td>\n",
       "      <td>England</td>\n",
       "      <td>479</td>\n",
       "      <td>90.31</td>\n",
       "      <td>7.56</td>\n",
       "      <td>432.58</td>\n",
       "    </tr>\n",
       "    <tr>\n",
       "      <th>4926</th>\n",
       "      <td>4</td>\n",
       "      <td>Francisco Román Alarcón Suárez</td>\n",
       "      <td>0.851788</td>\n",
       "      <td>Midfield</td>\n",
       "      <td>Spain</td>\n",
       "      <td>475</td>\n",
       "      <td>84.99</td>\n",
       "      <td>-0.38</td>\n",
       "      <td>403.7</td>\n",
       "    </tr>\n",
       "    <tr>\n",
       "      <th>20005</th>\n",
       "      <td>6</td>\n",
       "      <td>Toby Alderweireld</td>\n",
       "      <td>0.872537</td>\n",
       "      <td>Back</td>\n",
       "      <td>Belgium</td>\n",
       "      <td>446</td>\n",
       "      <td>86.59</td>\n",
       "      <td>3.33</td>\n",
       "      <td>386.19</td>\n",
       "    </tr>\n",
       "  </tbody>\n",
       "</table>\n",
       "</div>"
      ],
      "text/plain": [
       "      Games                            Name Orig_pass%  Position     Team  \\\n",
       "5201      4             Sergio Ramos García   0.906019      Back    Spain   \n",
       "5463      7                     Luka Modrić   0.835491  Midfield  Croatia   \n",
       "3244      7                     John Stones   0.913549      Back  England   \n",
       "4926      4  Francisco Román Alarcón Suárez   0.851788  Midfield    Spain   \n",
       "20005     6               Toby Alderweireld   0.872537      Back  Belgium   \n",
       "\n",
       "      num_passes xCompletion% xP% above position xPasses  \n",
       "5201         496        89.87               7.08  445.76  \n",
       "5463         527        83.57              -2.03  440.41  \n",
       "3244         479        90.31               7.56  432.58  \n",
       "4926         475        84.99              -0.38   403.7  \n",
       "20005        446        86.59               3.33  386.19  "
      ]
     },
     "execution_count": 22,
     "metadata": {},
     "output_type": "execute_result"
    }
   ],
   "source": [
    "for player in players:\n",
    "    above_av = reg_val_pos[player] - positions[players[player]['Position']]\n",
    "    players[player]['xP% above position'] = round((above_av * 100),2 )\n",
    "    players[player]['xPasses'] = round(players[player]['xCompletion%'] / 100 * players[player]['num_passes'],2)\n",
    "passers = pd.DataFrame(players).transpose()\n",
    "passers.sort_values(by='xPasses', ascending=False).head()"
   ]
  },
  {
   "cell_type": "code",
   "execution_count": null,
   "metadata": {},
   "outputs": [],
   "source": []
  }
 ],
 "metadata": {
  "kernelspec": {
   "display_name": "Python 3",
   "language": "python",
   "name": "python3"
  },
  "language_info": {
   "codemirror_mode": {
    "name": "ipython",
    "version": 3
   },
   "file_extension": ".py",
   "mimetype": "text/x-python",
   "name": "python",
   "nbconvert_exporter": "python",
   "pygments_lexer": "ipython3",
   "version": "3.7.3"
  }
 },
 "nbformat": 4,
 "nbformat_minor": 2
}
