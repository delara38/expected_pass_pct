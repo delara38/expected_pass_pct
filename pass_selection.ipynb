{
 "cells": [
  {
   "cell_type": "markdown",
   "metadata": {},
   "source": [
    "# Framework for Evaluating Player's Pass Selection\n",
    "Below is the coding framework for how someone could evaluate players in the 2018 world cup on their pass selection. pass selection will be evaluated by using the expected completion percentage(xCompletion%) based off their pass selection. This framework is extremely limited but a good starting point for the subject.\n",
    "\n",
    "The framework has three main steps.\n",
    "1. configure a player database that for every game in the world cup a player played has the number of passes they made and the average xCompletion% on those passes \n",
    "2. Regress every player towards the mean so that sample size(number of passes attempted) can be taken into account\n",
    "3. Reconfigure the player databse to have gp and regressed xCompletion% as attributes and rank them on their xCompletion%\n",
    "       \n",
    "     \n",
    "The machine learning model is based off of Devin Pleuler's repository applied-examples and the code can be found at the link below:\n",
    "https://github.com/devinpleuler/applied-examples/blob/master/Estimating%20Pass%20Difficulty.ipynb\n",
    "\n",
    "the model was done to estimate pass difficulty but it can double as the probability of a completion and thus a player who makes passes with higher completion probability could be considered to have a higher passing iq. The one difference between his model and mine is that Devin used Logistic Regression and I used a Multi-Layer Perceptron (MLP Classifier). the advantage of the MLP Classifier in my opinion is that it can be more fluid and makes connections between the data passed to it easier than Logistic Regression does. \n",
    "\n",
    "\n",
    "DEPENDENCIES:\n",
    "- pandas\n",
    "- numpy\n",
    "- matplotlib\n",
    "- sklearn\n",
    "\n",
    "\n",
    "DISCLAIMER:\n",
    "\n",
    "- The one issue with using a MLP Classifier is that it requires a lot of training data and we may not have enough tp get accurate results. \n",
    "\n",
    "- In this model we'll be evaluating passes from the 2018 world cup, the same passes we   trained the model with which is bad practice; however, we dont have enough data do another way.\n",
    " \n",
    "- the method for regressing to the mean is not perfect a better way to do it would be to find correlation between games - make one list of even games another list of odd games and correlate the two - but many players play 3 games or only 2 games so the method would not work\n",
    "\n",
    "- Due to how the players are ranked, players who are more risk-averse will be ranked better than other players. We as humans can understand that sometimes riskier plays can be better for your team than playing it safe. Model's that take into account the value gained from the pass would be much more complex. For such models I recomend people read Luke Bornn's paper on space creation\n",
    "\n",
    "for these reasons I've named this as a framework for how to measure something like pass iq so other people can learn from or apply it to other scenarios. The results shown should not be used for any statistical evaluation of players.\n",
    "\n",
    "\n",
    "\n",
    "IF YOURE DOING THIS ON YOUR MACHINE THEN GO INTO 'passes.csv' AND DELETE THE FIRST COMMA AT THE TOP UNLESS YOULL KEEP GETTING KEYERROR MESSAGES"
   ]
  },
  {
   "cell_type": "code",
   "execution_count": 1,
   "metadata": {},
   "outputs": [],
   "source": [
    "import pandas as pd\n",
    "import numpy as np\n",
    "import matplotlib.pyplot as plt\n",
    "import json\n",
    "import pickle\n",
    "import sklearn\n",
    "import requests\n",
    "%matplotlib inline"
   ]
  },
  {
   "cell_type": "code",
   "execution_count": 2,
   "metadata": {},
   "outputs": [],
   "source": [
    "#import pre-made csv of all players in world cup and make it into a dict\n",
    "players = pd.read_csv('player.csv').transpose().to_dict()\n",
    "\n",
    "#import ML model, refer to david pleuler post for model information\n",
    "filename = 'passes_ML.sav'\n",
    "model = pickle.load(open(filename,'rb'))\n"
   ]
  },
  {
   "cell_type": "code",
   "execution_count": 3,
   "metadata": {},
   "outputs": [
    {
     "data": {
      "text/html": [
       "<div>\n",
       "<style scoped>\n",
       "    .dataframe tbody tr th:only-of-type {\n",
       "        vertical-align: middle;\n",
       "    }\n",
       "\n",
       "    .dataframe tbody tr th {\n",
       "        vertical-align: top;\n",
       "    }\n",
       "\n",
       "    .dataframe thead th {\n",
       "        text-align: right;\n",
       "    }\n",
       "</style>\n",
       "<table border=\"1\" class=\"dataframe\">\n",
       "  <thead>\n",
       "    <tr style=\"text-align: right;\">\n",
       "      <th></th>\n",
       "      <th>Games</th>\n",
       "      <th>Name</th>\n",
       "      <th>Team</th>\n",
       "    </tr>\n",
       "  </thead>\n",
       "  <tbody>\n",
       "    <tr>\n",
       "      <th>3531</th>\n",
       "      <td>{}</td>\n",
       "      <td>Mohamed Salah</td>\n",
       "      <td>Egypt</td>\n",
       "    </tr>\n",
       "    <tr>\n",
       "      <th>3536</th>\n",
       "      <td>{}</td>\n",
       "      <td>Ramadan Sobhi</td>\n",
       "      <td>Egypt</td>\n",
       "    </tr>\n",
       "    <tr>\n",
       "      <th>3568</th>\n",
       "      <td>{}</td>\n",
       "      <td>Mohamed Naser Elsayed Elneny</td>\n",
       "      <td>Egypt</td>\n",
       "    </tr>\n",
       "    <tr>\n",
       "      <th>4063</th>\n",
       "      <td>{}</td>\n",
       "      <td>Ahmed Hegazi</td>\n",
       "      <td>Egypt</td>\n",
       "    </tr>\n",
       "    <tr>\n",
       "      <th>5250</th>\n",
       "      <td>{}</td>\n",
       "      <td>Ahmed Fathy Abdel Meneim Ibrahim</td>\n",
       "      <td>Egypt</td>\n",
       "    </tr>\n",
       "  </tbody>\n",
       "</table>\n",
       "</div>"
      ],
      "text/plain": [
       "     Games                              Name   Team\n",
       "3531    {}                     Mohamed Salah  Egypt\n",
       "3536    {}                     Ramadan Sobhi  Egypt\n",
       "3568    {}      Mohamed Naser Elsayed Elneny  Egypt\n",
       "4063    {}                      Ahmed Hegazi  Egypt\n",
       "5250    {}  Ahmed Fathy Abdel Meneim Ibrahim  Egypt"
      ]
     },
     "execution_count": 3,
     "metadata": {},
     "output_type": "execute_result"
    }
   ],
   "source": [
    "player = pd.read_csv('player.csv')\n",
    "player.head()"
   ]
  },
  {
   "cell_type": "code",
   "execution_count": 4,
   "metadata": {},
   "outputs": [],
   "source": [
    "#open up matches info and make a list of all the match ids\n",
    "tournament = requests.get('https://raw.githubusercontent.com/statsbomb/open-data/master/data/matches/43.json').json()\n",
    "\n",
    "match_ids = []\n",
    "for g in tournament:\n",
    "    m_id = g['match_id']\n",
    "    match_ids.append(m_id)\n"
   ]
  },
  {
   "cell_type": "code",
   "execution_count": 5,
   "metadata": {},
   "outputs": [],
   "source": [
    "\n",
    "path = 'https://raw.githubusercontent.com/statsbomb/open-data/master/data/events/{}.json'\n",
    "one = True\n",
    "for id in match_ids:\n",
    "    #get all the passes in the match\n",
    "    passes = requests.get(path.format(id)).json()\n",
    "    passes = [x for x in passes if x['type']['name'] == \"Pass\" and x['position']['name'] != 'Goalkeeper']\n",
    "    \n",
    "    #feed model pass info on passes to get probability of a completion\n",
    "    for play in passes:\n",
    "        player_id = play['player']['id']\n",
    "        #feeds pass vairables to model to get expected completion% ('x','y','length','angle')\n",
    "        features = play['location'][0], play['location'][1],play['pass']['length'],play['pass']['angle']\n",
    "        features = np.array(features)\n",
    "        chance = float(model.predict_proba(features.reshape(1,-1))[0].tolist()[1])\n",
    "    \n",
    "        #sets player position, will be used later\n",
    "        players[player_id]['Position'] = play['position']['name']\n",
    "    #try is used to see if there are any keys in the model, if there are none an exception occurs\n",
    "    #and then the except handles the player as a new player\n",
    "        try:\n",
    "            #check if game already exists for player\n",
    "            if id in players[player_id]['Games'].keys():\n",
    "                #if so add 1 to passes and recalculate the pass completion average\n",
    "                players[player_id]['Games'][id]['passes'] = players[player_id]['Games'][id]['passes'] + 1\n",
    "                players[player_id]['Games'][id]['xP_av'] = (players[player_id]['Games'][id]['xP_av'] * (players[player_id]['Games'][id]['passes'] -1) + chance) / players[player_id]['Games'][id]['passes']\n",
    "            \n",
    "            else:\n",
    "                #if player has not had game set up a new dictionary for that game indexed by the match id\n",
    "                players[player_id]['Games'][id] = {\n",
    "                    'passes': 1,\n",
    "                    'xP_av' : chance,\n",
    "                }\n",
    "        except:\n",
    "            #create the games part od the dictionary into a dictionary for every game\n",
    "            players[player_id]['Games'] = {}\n",
    "            players[player_id]['Games'][id] = {}\n",
    "            players[player_id]['Games'][id]['passes'] = 1\n",
    "            players[player_id]['Games'][id]['xP_av'] = chance\n",
    "        \n",
    "            "
   ]
  },
  {
   "cell_type": "code",
   "execution_count": 6,
   "metadata": {},
   "outputs": [],
   "source": [
    "#pops players who have no xpass data from the main dict\n",
    "to_pop = []\n",
    "for player in players:    \n",
    "    games = players[player]['Games']\n",
    "    if len(games) > 1:\n",
    "        xp1 = []\n",
    "        for game in games:\n",
    "            if game == '{':\n",
    "                to_pop.append(player)\n",
    "\n",
    "for names in to_pop:\n",
    "    players.pop(names)"
   ]
  },
  {
   "cell_type": "code",
   "execution_count": 7,
   "metadata": {},
   "outputs": [],
   "source": [
    "xp = {}\n",
    "\n",
    "#creates a dict of every player indexed by player id and the values are expected completion\n",
    "#average and total passes made\n",
    "tot_passes = []\n",
    "passcomp = []\n",
    "for player in players:    \n",
    "    games = players[player]['Games']\n",
    "  \n",
    "    xp1 = []\n",
    "    passes = []\n",
    "    for game in games:\n",
    "\n",
    "        xp1.append(games[int(game)]['xP_av'])\n",
    "        passes.append(games[int(game)]['passes'])\n",
    "\n",
    "    xp[player] = np.mean(xp1), np.sum(passes) \n",
    "    tot_passes.append(np.sum(passes))\n",
    "    passcomp.append(np.mean(xp1))"
   ]
  },
  {
   "cell_type": "markdown",
   "metadata": {},
   "source": [
    "# Regressing xCompletion%"
   ]
  },
  {
   "cell_type": "code",
   "execution_count": 8,
   "metadata": {},
   "outputs": [
    {
     "name": "stdout",
     "output_type": "stream",
     "text": [
      "557\n",
      "0.8391646161522741\n"
     ]
    }
   ],
   "source": [
    "'''\n",
    "below is the basic formula for regressing to the mean, its based off a method described in \n",
    "the book 'stat shot, fans guide' by Rob Vollman\n",
    "reg_val = (expected_completion_average * number_of_passes + (threshold - number_of_passes) * av_expected_completion_aveage) / threshold\n",
    "'''\n",
    "#collecting the threshold as a value of 30 over the max, the bigger the addition the \n",
    "#stronger players get regressed to the mean\n",
    "thresh = np.max(tot_passes) + 30\n",
    "print(thresh)\n",
    "\n",
    "#find the average xcompletion across all players\n",
    "xp_all = []\n",
    "for people in xp:\n",
    "    xp_all.append(xp[people][0])\n",
    "\n",
    "av_prec = np.mean(xp_all)\n",
    "print(av_prec)"
   ]
  },
  {
   "cell_type": "code",
   "execution_count": 9,
   "metadata": {},
   "outputs": [],
   "source": [
    "#applied the formula to each player in db and make a dictionary(playerid : regressed value)\n",
    "reg_val = {}\n",
    "for passers in xp:\n",
    "    passes = xp[passers][1]\n",
    "    xcomp = xp[passers][0]\n",
    "    to_add = thresh - passes\n",
    "    new_val = (((passes/thresh) * xcomp) + ((to_add/thresh) * av_prec))\n",
    "    reg_val[passers] = new_val\n",
    "\n",
    "    "
   ]
  },
  {
   "cell_type": "code",
   "execution_count": 10,
   "metadata": {
    "scrolled": true
   },
   "outputs": [
    {
     "data": {
      "image/png": "[encoded data removed]",
      "text/plain": [
       "<Figure size 1080x360 with 2 Axes>"
      ]
     },
     "metadata": {
      "needs_background": "light"
     },
     "output_type": "display_data"
    }
   ],
   "source": [
    "#plot xcompletion% with passes\n",
    "#in the first graph their are people with high pass% but nearly no shots so we cant say they are truly 95% passers\n",
    "#so we have to assumer they are only slightly above average; however, the people with 400+ shots that are 90% passers\n",
    "#have more accurate numbers because they have consistently made high percentage passes so they dont regress as much\n",
    "fig = plt.figure(figsize=(15,5))\n",
    "\n",
    "ax = fig.add_subplot(121)\n",
    "ax.scatter(tot_passes,passcomp )\n",
    "ax.set_title('xCompletion% vs passes made')\n",
    "\n",
    "ax = fig.add_subplot(122)\n",
    "plt.scatter(tot_passes, reg_val.values())\n",
    "ax.set_title('Regressed xCompletion% vs passes made')\n",
    "plt.show()"
   ]
  },
  {
   "cell_type": "markdown",
   "metadata": {},
   "source": [
    "# Re-create the player databse with GP and xCompletion%"
   ]
  },
  {
   "cell_type": "code",
   "execution_count": 11,
   "metadata": {},
   "outputs": [],
   "source": [
    "# add regressed xCompletion and games played to the old player dictionary\n",
    "for player in players:\n",
    "    players[player]['Games'] = len(players[player]['Games'])\n",
    "    players[player]['xCompletion%'] = round((reg_val[player] * 100), 2)\n"
   ]
  },
  {
   "cell_type": "code",
   "execution_count": 12,
   "metadata": {},
   "outputs": [
    {
     "name": "stdout",
     "output_type": "stream",
     "text": [
      "{'Games': 4, 'Name': 'Miguel Arturo Layún Prado', 'Team': 'Mexico', 'Position': 'Right Back', 'xCompletion%': 82.74}\n"
     ]
    }
   ],
   "source": [
    "#new player info\n",
    "print(players[5556])"
   ]
  },
  {
   "cell_type": "code",
   "execution_count": 13,
   "metadata": {},
   "outputs": [],
   "source": [
    "players = pd.DataFrame(players).transpose()"
   ]
  },
  {
   "cell_type": "code",
   "execution_count": 14,
   "metadata": {},
   "outputs": [
    {
     "data": {
      "text/html": [
       "<div>\n",
       "<style scoped>\n",
       "    .dataframe tbody tr th:only-of-type {\n",
       "        vertical-align: middle;\n",
       "    }\n",
       "\n",
       "    .dataframe tbody tr th {\n",
       "        vertical-align: top;\n",
       "    }\n",
       "\n",
       "    .dataframe thead th {\n",
       "        text-align: right;\n",
       "    }\n",
       "</style>\n",
       "<table border=\"1\" class=\"dataframe\">\n",
       "  <thead>\n",
       "    <tr style=\"text-align: right;\">\n",
       "      <th></th>\n",
       "      <th>Games</th>\n",
       "      <th>Name</th>\n",
       "      <th>Position</th>\n",
       "      <th>Team</th>\n",
       "      <th>xCompletion%</th>\n",
       "    </tr>\n",
       "  </thead>\n",
       "  <tbody>\n",
       "    <tr>\n",
       "      <th>3244</th>\n",
       "      <td>7</td>\n",
       "      <td>John Stones</td>\n",
       "      <td>Center Back</td>\n",
       "      <td>England</td>\n",
       "      <td>90.31</td>\n",
       "    </tr>\n",
       "    <tr>\n",
       "      <th>5201</th>\n",
       "      <td>4</td>\n",
       "      <td>Sergio Ramos García</td>\n",
       "      <td>Left Center Back</td>\n",
       "      <td>Spain</td>\n",
       "      <td>89.87</td>\n",
       "    </tr>\n",
       "    <tr>\n",
       "      <th>5642</th>\n",
       "      <td>6</td>\n",
       "      <td>Axel Witsel</td>\n",
       "      <td>Left Center Midfield</td>\n",
       "      <td>Belgium</td>\n",
       "      <td>89.01</td>\n",
       "    </tr>\n",
       "    <tr>\n",
       "      <th>5213</th>\n",
       "      <td>4</td>\n",
       "      <td>Gerard Piqué Bernabéu</td>\n",
       "      <td>Right Center Back</td>\n",
       "      <td>Spain</td>\n",
       "      <td>88.43</td>\n",
       "    </tr>\n",
       "    <tr>\n",
       "      <th>5506</th>\n",
       "      <td>4</td>\n",
       "      <td>Javier Alejandro Mascherano</td>\n",
       "      <td>Right Center Midfield</td>\n",
       "      <td>Argentina</td>\n",
       "      <td>88.26</td>\n",
       "    </tr>\n",
       "  </tbody>\n",
       "</table>\n",
       "</div>"
      ],
      "text/plain": [
       "     Games                         Name               Position       Team  \\\n",
       "3244     7                  John Stones            Center Back    England   \n",
       "5201     4          Sergio Ramos García       Left Center Back      Spain   \n",
       "5642     6                  Axel Witsel   Left Center Midfield    Belgium   \n",
       "5213     4        Gerard Piqué Bernabéu      Right Center Back      Spain   \n",
       "5506     4  Javier Alejandro Mascherano  Right Center Midfield  Argentina   \n",
       "\n",
       "     xCompletion%  \n",
       "3244        90.31  \n",
       "5201        89.87  \n",
       "5642        89.01  \n",
       "5213        88.43  \n",
       "5506        88.26  "
      ]
     },
     "execution_count": 14,
     "metadata": {},
     "output_type": "execute_result"
    }
   ],
   "source": [
    "players = players.sort_values(by='xCompletion%', ascending=False)\n",
    "players.head()"
   ]
  }
 ],
 "metadata": {
  "kernelspec": {
   "display_name": "Python 3",
   "language": "python",
   "name": "python3"
  },
  "language_info": {
   "codemirror_mode": {
    "name": "ipython",
    "version": 3
   },
   "file_extension": ".py",
   "mimetype": "text/x-python",
   "name": "python",
   "nbconvert_exporter": "python",
   "pygments_lexer": "ipython3",
   "version": "3.7.3"
  }
 },
 "nbformat": 4,
 "nbformat_minor": 2
}
